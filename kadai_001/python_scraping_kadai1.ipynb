{
  "nbformat": 4,
  "nbformat_minor": 0,
  "metadata": {
    "colab": {
      "provenance": []
    },
    "kernelspec": {
      "name": "python3",
      "display_name": "Python 3"
    },
    "language_info": {
      "name": "python"
    }
  },
  "cells": [
    {
      "cell_type": "code",
      "execution_count": 1,
      "metadata": {
        "colab": {
          "base_uri": "https://localhost:8080/"
        },
        "id": "0hJXBWET3Ihd",
        "outputId": "996dbd35-1e12-4cde-bf13-b9f9068401df"
      },
      "outputs": [
        {
          "output_type": "stream",
          "name": "stdout",
          "text": [
            "画像は「SHOGUN 将軍」真田広之演じる吉井虎永 - FX Network / Photofest / ゲッティ イメージズ　現地時間8日、米テレビ界最高の栄誉とされるエミー賞の前哨戦「クリエイティブ・アーツ・エミー賞」が発表され、真田広之が主演・プロデュースを務めたハリウッドドラマ「SHOGUN 将軍」が14部門を獲得。テレビ番組の単一シーズンとしての史上最多受賞記録を更新する快挙を成し遂げた。\n",
            "\n",
            "【画像】美しすぎる…「SHOGUN 将軍」穂志もえか演じる大人気キャラ・藤様\n",
            "\n",
            "　作品賞などの主要部門を含む25ノミネートを獲得していた「SHOGUN 将軍」。美術や撮影などの技術系、ゲストやキャスティングをたたえる同賞においては、以下の14部門を受賞している。・ゲスト男優賞（ドラマシリーズ部門）：ネスター・カーボネル\n",
            "・キャスティング賞（ドラマシリーズ部門）\n",
            "・時代劇衣装賞\n",
            "・補綴物メイクアップ賞\n",
            "・メイクアップ賞（時代劇またはファンタジー／SF部門）\n",
            "・ヘアスタイリング賞（時代劇またはファンタジー／SF部門）\n",
            "・プロダクション・デザイン賞（時代劇またはファンタジー／SF部門、1時間番組）\n",
            "・編集賞（ドラマ部門）\n",
            "・視覚効果賞（シリーズまたは映画）\n",
            "・音響賞（コメディー／ドラマ部門、1時間番組）\n",
            "・サウンドミキシング賞（コメディー／ドラマ部門、1時間番組）\n",
            "・スタントパフォーマンス賞\n",
            "・撮影賞（1時間番組）\n",
            "・メインタイトルデザイン賞　さらに、「SHOGUN 将軍」の舞台裏を収めたメイキング映像「Making of Shogun」が短編賞を受賞しており、前哨戦で圧倒的な存在感を見せた。　主要部門の結果が一挙に発表される第76回プライムタイム・エミー賞授賞式は、現地時間9月15日にロサンゼルスで開催予定。「SHOGUN 将軍」では主演の真田が主演男優賞にノミネートされているほか、アンナ・サワイが主演女優賞、浅野忠信と平岳大が助演男優賞の候補に名を連ねている。（編集部・倉本拓弥）\n"
          ]
        }
      ],
      "source": [
        "import requests\n",
        "from bs4 import BeautifulSoup\n",
        "\n",
        "url = \"https://news.yahoo.co.jp/articles/ed6f4b5b67b100e8f07c20c3088ffcfea15e30a8\"\n",
        "\n",
        "# GETリクエストを送信し、HTMLを取得する\n",
        "response = requests.get(url)\n",
        "\n",
        "#print(response.text)\n",
        "\n",
        "# HTMLを解析する\n",
        "soup = BeautifulSoup(response.text, 'html.parser')\n",
        "\n",
        "# タイトルの要素を取得する\n",
        "# CSSセレクタを使用して、タイトルを取得する\n",
        "title_element = soup.select_one('#uamods >div')\n",
        "#print(title_element)\n",
        "print(title_element.text)"
      ]
    }
  ]
}