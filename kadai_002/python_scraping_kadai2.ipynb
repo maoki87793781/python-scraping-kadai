{
  "nbformat": 4,
  "nbformat_minor": 0,
  "metadata": {
    "colab": {
      "provenance": []
    },
    "kernelspec": {
      "name": "python3",
      "display_name": "Python 3"
    },
    "language_info": {
      "name": "python"
    }
  },
  "cells": [
    {
      "cell_type": "code",
      "execution_count": 8,
      "metadata": {
        "colab": {
          "base_uri": "https://localhost:8080/"
        },
        "id": "rh3N5yHbCNIJ",
        "outputId": "79532289-07fc-4c9e-cb52-8dad7951930b"
      },
      "outputs": [
        {
          "output_type": "stream",
          "name": "stdout",
          "text": [
            "APIを入力してください：　··········\n",
            "駅名を入力してください: 吉祥寺\n",
            "一風堂 吉祥寺店, 3.9, 武蔵野市吉祥寺本町１丁目１０−４ 古城会館 1F\n",
            "カレー食堂 リトルスパイス, 4.2, 武蔵野市吉祥寺本町２丁目１４−１ 山田ビル 2F\n",
            "牛タンAZABU屋, 4, 武蔵野市吉祥寺南町１丁目１１−２ もみじビル 5Ｆ\n",
            "みんみん, 3.9, 武蔵野市吉祥寺本町１丁目１−９\n",
            "春木屋 吉祥寺店, 3.9, 武蔵野市吉祥寺本町２丁目１４−１\n",
            "Bar Boga バールボガ, 4.1, 武蔵野市吉祥寺本町１丁目１３−６ 古谷ビル 1F\n",
            "びいどろ 吉祥寺店, 3.6, 武蔵野市吉祥寺本町２丁目１３−７ グランデール吉祥寺 ２０１\n",
            "吉祥寺っ子居酒屋 旨串とりとん, 3.9, 武蔵野市吉祥寺南町１丁目４−１ 井の頭ビル B1F\n",
            "ブルーチェリー bluecherry, 3.5, 武蔵野市吉祥寺本町２丁目８−４ Cosmos 吉祥寺 3F\n",
            "BIODYNAMIE 吉祥寺店, 3.7, 武蔵野市吉祥寺本町１丁目９−２ ＰＡＬＬＡＺＯ１Ｆ\n",
            "cafe Lumiere, 3.7, 東山ビル, ４F, １丁目-２-2 吉祥寺南町, 武蔵野市\n",
            "サンドイッチハウス メルヘン アトレ吉祥寺店, 3.9, 武蔵野市吉祥寺南町１丁目１−２４ アトレ吉祥寺店 1F\n",
            "ビストロ ハッチ, 4.5, 武蔵野市吉祥寺本町２丁目１７−３\n",
            "洋風居酒屋Pecori 吉祥寺店, 4.4, 武蔵野市吉祥寺南町１丁目１−５ 中外ビル 5F\n",
            "旭鮨総本店 東急吉祥寺店, 3.9, 武蔵野市吉祥寺本町２丁目３−１\n",
            "名代 富士そば 吉祥寺店, 3.5, 武蔵野市吉祥寺本町１丁目１−２\n",
            "日高屋 吉祥寺本町通店, 3.4, 武蔵野市吉祥寺本町１丁目１３−３ 竹本ビル Ｂ１Ｆ\n",
            "天丼てんや 吉祥寺店, 3.6, 武蔵野市吉祥寺本町１丁目１１−２５\n",
            "おむすび権米衛 京王吉祥寺店, 3.9, 武蔵野市吉祥寺南町２丁目１−２５ キラリナ京王吉祥寺１F\n",
            "モンタナ, 3.9, 武蔵野市吉祥寺本町２丁目１０−２ 本町田中ビル1F\n"
          ]
        }
      ],
      "source": [
        "import requests\n",
        "import pprint\n",
        "from getpass import getpass\n",
        "\n",
        "# APIキーを指定\n",
        "api_key = getpass(\"APIを入力してください：　\")\n",
        "\n",
        "# 駅名を入力\n",
        "station_name = input(\"駅名を入力してください: \")\n",
        "\n",
        "# 駅の緯度経度を取得\n",
        "geocode_url = 'https://maps.googleapis.com/maps/api/geocode/json'\n",
        "geocode_params = {\n",
        "    'address': station_name,\n",
        "    'key': api_key\n",
        "}\n",
        "geocode_response = requests.get(geocode_url, params=geocode_params)\n",
        "geocode_data = geocode_response.json()\n",
        "\n",
        "# JSON(geocode_data)の中身を確認\n",
        "#pprint.pprint(geocode_data)\n",
        "\n",
        "# 緯度経度を抽出 (最初の結果を使用)\n",
        "location = geocode_data['results'][0]['geometry']['location']\n",
        "latitude = location['lat']\n",
        "longitude = location['lng']\n",
        "\n",
        "# レストラン情報を取得\n",
        "nearby_url = 'https://maps.googleapis.com/maps/api/place/nearbysearch/json'\n",
        "nearby_params = {\n",
        "    'location': f\"{latitude},{longitude}\",\n",
        "    'radius': 500,\n",
        "    'type': 'restaurant',\n",
        "    'language': 'ja',  # 日本語で結果を取得\n",
        "    'key': api_key\n",
        "}\n",
        "nearby_response = requests.get(nearby_url, params=nearby_params)\n",
        "nearby_data = nearby_response.json()\n",
        "\n",
        "# JSON(nearby_data)の中身を確認\n",
        "#pprint.pprint(nearby_data)\n",
        "\n",
        "# レストラン情報を出力\n",
        "for result in nearby_data['results']:\n",
        "    name = result['name']\n",
        "    rating = result.get('rating', '評価なし')  # 評価がない場合も考慮\n",
        "    address = result['vicinity']\n",
        "    print(f\"{name}, {rating}, {address}\")"
      ]
    },
    {
      "cell_type": "code",
      "source": [
        "\n"
      ],
      "metadata": {
        "colab": {
          "base_uri": "https://localhost:8080/"
        },
        "id": "KkqvlzR7Jcsx",
        "outputId": "58fa1240-9586-493c-cdc4-1ae2c093117e"
      },
      "execution_count": 7,
      "outputs": [
        {
          "output_type": "stream",
          "name": "stdout",
          "text": [
            "一風堂 吉祥寺店, 3.9, 武蔵野市吉祥寺本町１丁目１０−４ 古城会館 1F\n",
            "カレー食堂 リトルスパイス, 4.2, 武蔵野市吉祥寺本町２丁目１４−１ 山田ビル 2F\n",
            "牛タンAZABU屋, 4, 武蔵野市吉祥寺南町１丁目１１−２ もみじビル 5Ｆ\n",
            "みんみん, 3.9, 武蔵野市吉祥寺本町１丁目１−９\n",
            "春木屋 吉祥寺店, 3.9, 武蔵野市吉祥寺本町２丁目１４−１\n",
            "Bar Boga バールボガ, 4.1, 武蔵野市吉祥寺本町１丁目１３−６ 古谷ビル 1F\n",
            "びいどろ 吉祥寺店, 3.6, 武蔵野市吉祥寺本町２丁目１３−７ グランデール吉祥寺 ２０１\n",
            "吉祥寺っ子居酒屋 旨串とりとん, 3.9, 武蔵野市吉祥寺南町１丁目４−１ 井の頭ビル B1F\n",
            "ブルーチェリー bluecherry, 3.5, 武蔵野市吉祥寺本町２丁目８−４ Cosmos 吉祥寺 3F\n",
            "BIODYNAMIE 吉祥寺店, 3.7, 武蔵野市吉祥寺本町１丁目９−２ ＰＡＬＬＡＺＯ１Ｆ\n",
            "cafe Lumiere, 3.7, 東山ビル, ４F, １丁目-２-2 吉祥寺南町, 武蔵野市\n",
            "サンドイッチハウス メルヘン アトレ吉祥寺店, 3.9, 武蔵野市吉祥寺南町１丁目１−２４ アトレ吉祥寺店 1F\n",
            "ビストロ ハッチ, 4.5, 武蔵野市吉祥寺本町２丁目１７−３\n",
            "洋風居酒屋Pecori 吉祥寺店, 4.4, 武蔵野市吉祥寺南町１丁目１−５ 中外ビル 5F\n",
            "旭鮨総本店 東急吉祥寺店, 3.9, 武蔵野市吉祥寺本町２丁目３−１\n",
            "名代 富士そば 吉祥寺店, 3.5, 武蔵野市吉祥寺本町１丁目１−２\n",
            "日高屋 吉祥寺本町通店, 3.4, 武蔵野市吉祥寺本町１丁目１３−３ 竹本ビル Ｂ１Ｆ\n",
            "天丼てんや 吉祥寺店, 3.6, 武蔵野市吉祥寺本町１丁目１１−２５\n",
            "おむすび権米衛 京王吉祥寺店, 3.9, 武蔵野市吉祥寺南町２丁目１−２５ キラリナ京王吉祥寺１F\n",
            "モンタナ, 3.9, 武蔵野市吉祥寺本町２丁目１０−２ 本町田中ビル1F\n"
          ]
        }
      ]
    }
  ]
}